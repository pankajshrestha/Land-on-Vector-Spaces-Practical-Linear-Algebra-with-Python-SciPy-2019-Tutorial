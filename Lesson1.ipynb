{
  "nbformat": 4,
  "nbformat_minor": 0,
  "metadata": {
    "colab": {
      "name": "Lesson1.ipynb",
      "provenance": [],
      "mount_file_id": "11bADA1Z6JWru3yMqVRiRSA5wVbGiBCSI",
      "authorship_tag": "ABX9TyOJL1NyNWq59+fr2nhmShc9",
      "include_colab_link": true
    },
    "kernelspec": {
      "name": "python3",
      "display_name": "Python 3"
    }
  },
  "cells": [
    {
      "cell_type": "markdown",
      "metadata": {
        "id": "view-in-github",
        "colab_type": "text"
      },
      "source": [
        "<a href=\"https://colab.research.google.com/github/pankajshrestha/Land-on-Vector-Spaces-Practical-Linear-Algebra-with-Python-SciPy-2019-Tutorial/blob/master/Lesson1.ipynb\" target=\"_parent\"><img src=\"https://colab.research.google.com/assets/colab-badge.svg\" alt=\"Open In Colab\"/></a>"
      ]
    },
    {
      "cell_type": "markdown",
      "metadata": {
        "id": "a056RQewKR-t",
        "colab_type": "text"
      },
      "source": [
        "## Linear Algebra and Python\n",
        "## https://github.com/engineersCode/EngComp4_landlinear\n"
      ]
    },
    {
      "cell_type": "markdown",
      "metadata": {
        "id": "sgzSbbkHKRUQ",
        "colab_type": "text"
      },
      "source": [
        ""
      ]
    },
    {
      "cell_type": "code",
      "metadata": {
        "id": "fltG7nxRKZVv",
        "colab_type": "code",
        "colab": {}
      },
      "source": [
        "import numpy\n",
        "%matplotlib inline\n",
        "from matplotlib import pyplot\n",
        "\n"
      ],
      "execution_count": 0,
      "outputs": []
    },
    {
      "cell_type": "code",
      "metadata": {
        "id": "w63q-Q7aL70P",
        "colab_type": "code",
        "colab": {
          "base_uri": "https://localhost:8080/",
          "height": 35
        },
        "outputId": "a708d7ba-86b2-44b2-e846-a4c7b129e44f"
      },
      "source": [
        "from urllib.request import urlretrieve\n",
        "URL = 'https://go.gwu.edu/engcomp4plot'\n",
        "urlretrieve(URL, 'plot_helper.py')"
      ],
      "execution_count": 4,
      "outputs": [
        {
          "output_type": "execute_result",
          "data": {
            "text/plain": [
              "('plot_helper.py', <http.client.HTTPMessage at 0x7f4c78c7c320>)"
            ]
          },
          "metadata": {
            "tags": []
          },
          "execution_count": 4
        }
      ]
    },
    {
      "cell_type": "code",
      "metadata": {
        "id": "rlDMvg-DLzyW",
        "colab_type": "code",
        "colab": {}
      },
      "source": [
        "from plot_helper import *\n"
      ],
      "execution_count": 0,
      "outputs": []
    },
    {
      "cell_type": "code",
      "metadata": {
        "id": "FCA_lO4OMKky",
        "colab_type": "code",
        "colab": {
          "base_uri": "https://localhost:8080/",
          "height": 373
        },
        "outputId": "55ba3e52-fe03-44ba-fe0e-20ad6b3a05b2"
      },
      "source": [
        "vector = [(2,2)]\n",
        "tails = [(-3,-2), (-3,1), (0,0), (1,-3)]\n",
        "\n",
        "plot_vector(vector, tails)"
      ],
      "execution_count": 6,
      "outputs": [
        {
          "output_type": "display_data",
          "data": {
            "image/png": "[encoded data removed]",
            "text/plain": [
              "<Figure size 400x400 with 1 Axes>"
            ]
          },
          "metadata": {
            "tags": []
          }
        }
      ]
    }
  ]
}